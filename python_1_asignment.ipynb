{
  "nbformat": 4,
  "nbformat_minor": 0,
  "metadata": {
    "colab": {
      "provenance": []
    },
    "kernelspec": {
      "name": "python3",
      "display_name": "Python 3"
    },
    "language_info": {
      "name": "python"
    }
  },
  "cells": [
    {
      "cell_type": "markdown",
      "source": [
        "# Practical Questions\n",
        "Q-1 Write a Python program to print \"Hello, World!"
      ],
      "metadata": {
        "id": "rD64t6Uen8KH"
      }
    },
    {
      "cell_type": "code",
      "source": [
        "print(\"Hello,World!\")"
      ],
      "metadata": {
        "colab": {
          "base_uri": "https://localhost:8080/"
        },
        "id": "C5G0kn2uobxg",
        "outputId": "e2bc0661-f6ee-4e7f-e8f3-748825f68f7d"
      },
      "execution_count": null,
      "outputs": [
        {
          "output_type": "stream",
          "name": "stdout",
          "text": [
            "Hello,World!\n"
          ]
        }
      ]
    },
    {
      "cell_type": "markdown",
      "source": [
        "Q-2 Write a Python program that displays your name and age.\n",
        "\n"
      ],
      "metadata": {
        "id": "h37OXMBRosNC"
      }
    },
    {
      "cell_type": "code",
      "source": [
        "Name=input(\"Please Enter Name : \")\n",
        "Age=input(\"please Enter Age : \")\n",
        "print(\"My name is \"+ Name+\" and \"+\"my age is \"+ Age)"
      ],
      "metadata": {
        "colab": {
          "base_uri": "https://localhost:8080/"
        },
        "id": "ToyHis9co6Ll",
        "outputId": "cfb632dd-c3d2-4a30-c60c-99336b00de54"
      },
      "execution_count": null,
      "outputs": [
        {
          "output_type": "stream",
          "name": "stdout",
          "text": [
            "Please Enter Name : h\n",
            "please Enter Age : 25\n",
            "My name is h and my age is 25\n"
          ]
        }
      ]
    },
    {
      "cell_type": "markdown",
      "source": [
        "Q-3 Write code to print all the pre-defined keywords in Python using the keyword library"
      ],
      "metadata": {
        "id": "-m_SRrDaqg_p"
      }
    },
    {
      "cell_type": "code",
      "source": [
        "help('keywords')"
      ],
      "metadata": {
        "colab": {
          "base_uri": "https://localhost:8080/"
        },
        "id": "YXbdZJEOrLNC",
        "outputId": "f8a70d94-1f53-4e80-e27c-67db60b9d8cb"
      },
      "execution_count": null,
      "outputs": [
        {
          "output_type": "stream",
          "name": "stdout",
          "text": [
            "\n",
            "Here is a list of the Python keywords.  Enter any keyword to get more help.\n",
            "\n",
            "False               class               from                or\n",
            "None                continue            global              pass\n",
            "True                def                 if                  raise\n",
            "and                 del                 import              return\n",
            "as                  elif                in                  try\n",
            "assert              else                is                  while\n",
            "async               except              lambda              with\n",
            "await               finally             nonlocal            yield\n",
            "break               for                 not                 \n",
            "\n"
          ]
        }
      ]
    },
    {
      "cell_type": "markdown",
      "source": [
        "Q-4 Write a program that checks if a given word is a Python keyword.\n"
      ],
      "metadata": {
        "id": "1S6Gt6yxtBOW"
      }
    },
    {
      "cell_type": "code",
      "source": [
        "import keyword\n",
        "\n",
        "def is_python_keyword(word):\n",
        "    \"\"\"\n",
        "    Checks if a word is a Python keyword.\n",
        "\n",
        "    Args:\n",
        "        word: The word to check.\n",
        "\n",
        "    Returns:\n",
        "        True if the word is a keyword, False otherwise.\n",
        "    \"\"\"\n",
        "    return keyword.iskeyword(word)\n",
        "\n",
        "# Example usage\n",
        "word1 = \"if\"\n",
        "word2 = \"variable\"\n",
        "\n",
        "print(f\"'{word1}' is a keyword: {is_python_keyword(word1)}\")\n",
        "print(f\"'{word2}' is a keyword: {is_python_keyword(word2)}\")"
      ],
      "metadata": {
        "colab": {
          "base_uri": "https://localhost:8080/"
        },
        "id": "nUQm-9AxtFne",
        "outputId": "b5f7f39c-3067-4cc5-c709-5f3f4d48293e"
      },
      "execution_count": null,
      "outputs": [
        {
          "output_type": "stream",
          "name": "stdout",
          "text": [
            "'if' is a keyword: True\n",
            "'variable' is a keyword: False\n"
          ]
        }
      ]
    },
    {
      "cell_type": "markdown",
      "source": [
        "Q-5 Create a list and tuple in Python, and demonstrate how attempting to change an element works differently\n",
        "for each."
      ],
      "metadata": {
        "id": "qg8pkvl_tyXa"
      }
    },
    {
      "cell_type": "code",
      "source": [
        "# list mutable\n",
        "list=[1,2,3]\n",
        "list[1]=[20]\n",
        "list\n",
        " # tuple mutable\n",
        "tuple=(5,10,15)\n",
        "try:\n",
        "  tuple[1]=20\n",
        "except TypeError as e:\n",
        "  print(e)\n",
        "print(tuple)"
      ],
      "metadata": {
        "colab": {
          "base_uri": "https://localhost:8080/"
        },
        "id": "wMQBuA7ut6vs",
        "outputId": "174f2ab5-d09d-47b3-8e57-4089a0a8b9f9"
      },
      "execution_count": null,
      "outputs": [
        {
          "output_type": "stream",
          "name": "stdout",
          "text": [
            "'tuple' object does not support item assignment\n",
            "(5, 10, 15)\n"
          ]
        }
      ]
    },
    {
      "cell_type": "markdown",
      "source": [
        "Q-6 Write a function to demonstrate the behavior of mutable and immutable arguments."
      ],
      "metadata": {
        "id": "eWiG0HW3ykUO"
      }
    },
    {
      "cell_type": "code",
      "source": [
        "def modify_arguments(immutable_arg, mutable_arg):\n",
        "    \"\"\"\n",
        "    Demonstrates the behavior of mutable and immutable arguments in Python.\n",
        "\n",
        "    Args:\n",
        "        immutable_arg: An immutable argument (e.g., integer, string, tuple).\n",
        "        mutable_arg: A mutable argument (e.g., list, dictionary).\n",
        "    \"\"\"\n",
        "    print(\"Original immutable argument:\", immutable_arg)\n",
        "    print(\"Original mutable argument:\", mutable_arg)\n",
        "\n",
        "    # Attempt to modify the immutable argument\n",
        "    immutable_arg = immutable_arg + 1\n",
        "    print(\"Modified immutable argument inside function:\", immutable_arg)\n",
        "\n",
        "    # Modify the mutable argument\n",
        "    mutable_arg.append(4)\n",
        "    print(\"Modified mutable argument inside function:\", mutable_arg)\n",
        "\n",
        "# Example usage\n",
        "immutable_value = 10\n",
        "mutable_list = [1, 2, 3]\n",
        "\n",
        "modify_arguments(immutable_value, mutable_list)\n",
        "\n",
        "print(\"Final immutable argument:\", immutable_value)\n",
        "print(\"Final mutable argument:\", mutable_list)\n"
      ],
      "metadata": {
        "colab": {
          "base_uri": "https://localhost:8080/"
        },
        "id": "8Uh2rr9qtn6-",
        "outputId": "95795af2-f2a7-464e-b661-4eb1c38f38fc"
      },
      "execution_count": null,
      "outputs": [
        {
          "output_type": "stream",
          "name": "stdout",
          "text": [
            "Original immutable argument: 10\n",
            "Original mutable argument: [1, 2, 3]\n",
            "Modified immutable argument inside function: 11\n",
            "Modified mutable argument inside function: [1, 2, 3, 4]\n",
            "Final immutable argument: 10\n",
            "Final mutable argument: [1, 2, 3, 4]\n"
          ]
        }
      ]
    },
    {
      "cell_type": "markdown",
      "source": [
        "Q-7. Write a program that performs basic arithmetic operations on two user-input numbers."
      ],
      "metadata": {
        "id": "_Izj7cKxyrYE"
      }
    },
    {
      "cell_type": "code",
      "source": [
        "a=int(input(\"Enter a number of a : \"))\n",
        "b=int(input(\"Enter a number of b: \"))\n",
        "a+b\n",
        "a-b\n",
        "a*b\n",
        "a/b"
      ],
      "metadata": {
        "colab": {
          "base_uri": "https://localhost:8080/"
        },
        "id": "ONt9jrYSyf_N",
        "outputId": "6bc5bd29-6ea5-4918-b527-80b880893412"
      },
      "execution_count": null,
      "outputs": [
        {
          "name": "stdout",
          "output_type": "stream",
          "text": [
            "Enter a number of a : 10\n",
            "Enter a number of b: 5\n"
          ]
        },
        {
          "output_type": "execute_result",
          "data": {
            "text/plain": [
              "2.0"
            ]
          },
          "metadata": {},
          "execution_count": 20
        }
      ]
    },
    {
      "cell_type": "markdown",
      "source": [
        "Q-8.Write a program to demonstrate the use of logical operators."
      ],
      "metadata": {
        "id": "pyWnsbIZzgx4"
      }
    },
    {
      "cell_type": "code",
      "source": [
        "#Logical Operators (AND, OR, NOT) with generic variables\n",
        "a, b, c = True, False, True\n",
        "\n",
        "# AND: Both conditions must be True\n",
        "if a and c:\n",
        "    print(\"Both a and c are True (AND condition).\")\n",
        "\n",
        "# OR: At least one condition must be True\n",
        "if b or c:\n",
        "    print(\"Either b or c is True (OR condition).\")\n",
        "\n",
        "# NOT: Reverses the condition\n",
        "if not b:\n",
        "    print(\"b is False (NOT condition).\")\n"
      ],
      "metadata": {
        "colab": {
          "base_uri": "https://localhost:8080/"
        },
        "id": "OsjnOf4n1f23",
        "outputId": "439af602-09c1-4507-8d9e-b5160c32e4dd"
      },
      "execution_count": null,
      "outputs": [
        {
          "output_type": "stream",
          "name": "stdout",
          "text": [
            "Both a and c are True (AND condition).\n",
            "Either b or c is True (OR condition).\n",
            "b is False (NOT condition).\n"
          ]
        }
      ]
    },
    {
      "cell_type": "markdown",
      "source": [
        "Q-9.Write a Python program to convert user input from string to integer, float, and boolean types."
      ],
      "metadata": {
        "id": "d8P1Bdon1-Ek"
      }
    },
    {
      "cell_type": "code",
      "source": [
        "# string\n",
        "a=\"2\"\n",
        "#converting string to integar\n",
        "int(a)\n",
        "#converting string to float\n",
        "float(a)\n",
        "#converting string to boolean\n",
        "bool(a)\n"
      ],
      "metadata": {
        "colab": {
          "base_uri": "https://localhost:8080/"
        },
        "id": "NDk2ZIvk2Gt9",
        "outputId": "66006349-09a8-43b1-cc87-200f7ef85f0c"
      },
      "execution_count": null,
      "outputs": [
        {
          "output_type": "execute_result",
          "data": {
            "text/plain": [
              "True"
            ]
          },
          "metadata": {},
          "execution_count": 31
        }
      ]
    },
    {
      "cell_type": "markdown",
      "source": [
        "Q-10.Write code to demonstrate type casting with list elements\n"
      ],
      "metadata": {
        "id": "WM1kFM8m3v31"
      }
    },
    {
      "cell_type": "code",
      "source": [
        "list=[1,2.0,\"himanshu\",'2',2+5j]\n",
        "# converting int to string\n",
        "list[1]=\"hii\"\n",
        "# converting string to float\n",
        "list[2]=3.0\n",
        "#converting string to bool\n",
        "list[4]=False\n",
        "#converting int to complex\n",
        "list[0]=1+2j\n",
        "#converting complex to int\n",
        "list[4]=5\n",
        "list"
      ],
      "metadata": {
        "colab": {
          "base_uri": "https://localhost:8080/"
        },
        "id": "pNs4ABvs1xGf",
        "outputId": "a2e0fcb6-e040-41a4-8f36-23d20d0bcb78"
      },
      "execution_count": null,
      "outputs": [
        {
          "output_type": "execute_result",
          "data": {
            "text/plain": [
              "[(1+2j), 'hii', 3.0, '2', 5]"
            ]
          },
          "metadata": {},
          "execution_count": 37
        }
      ]
    },
    {
      "cell_type": "markdown",
      "source": [
        "Q-11 Write a program that checks if a number is positive, negative, or zero."
      ],
      "metadata": {
        "id": "3KbhQx496UsU"
      }
    },
    {
      "cell_type": "code",
      "source": [
        "a=int(input(\"Enter a number: \"))\n",
        "if a>0:\n",
        "  print(\"Your number is positive\")\n",
        "elif a<0:\n",
        "  print(\"Your number is negative\")\n",
        "else:\n",
        "  print(\"Your number is zero\")"
      ],
      "metadata": {
        "colab": {
          "base_uri": "https://localhost:8080/"
        },
        "id": "Uv4M22-N4_EQ",
        "outputId": "6b340ae2-012f-4ea6-d6b8-b8f664462b82"
      },
      "execution_count": null,
      "outputs": [
        {
          "output_type": "stream",
          "name": "stdout",
          "text": [
            "Enter a number: 0\n",
            "Your number is zero\n"
          ]
        }
      ]
    },
    {
      "cell_type": "markdown",
      "source": [
        "Q-12 Write a for loop to print numbers from 1 to 10."
      ],
      "metadata": {
        "id": "G6rKpaLm7UsB"
      }
    },
    {
      "cell_type": "code",
      "source": [
        "for i in range(1,11):\n",
        "  print(i)"
      ],
      "metadata": {
        "colab": {
          "base_uri": "https://localhost:8080/"
        },
        "id": "LS72SWBk7PEA",
        "outputId": "14fff65f-77c0-4c08-b5ea-d06c37d3753f"
      },
      "execution_count": null,
      "outputs": [
        {
          "output_type": "stream",
          "name": "stdout",
          "text": [
            "1\n",
            "2\n",
            "3\n",
            "4\n",
            "5\n",
            "6\n",
            "7\n",
            "8\n",
            "9\n",
            "10\n"
          ]
        }
      ]
    },
    {
      "cell_type": "markdown",
      "source": [
        "Q-13 Write a Python program to find the sum of all even numbers between 1 and 50."
      ],
      "metadata": {
        "id": "AMAFvPHo767f"
      }
    },
    {
      "cell_type": "code",
      "source": [
        "sum_of_all_even_numbers=0\n",
        "for i in range(0,51,2):\n",
        "  sum_of_all_even_numbers += i\n",
        "print(sum_of_all_even_numbers)"
      ],
      "metadata": {
        "colab": {
          "base_uri": "https://localhost:8080/"
        },
        "id": "wmaTl7l57nPG",
        "outputId": "9e801c95-63bd-41b5-d76b-1f37f1d865f6"
      },
      "execution_count": null,
      "outputs": [
        {
          "output_type": "stream",
          "name": "stdout",
          "text": [
            "650\n"
          ]
        }
      ]
    },
    {
      "cell_type": "markdown",
      "source": [
        "Q-14 Write a program to reverse a string using a while loop."
      ],
      "metadata": {
        "id": "cp4mOfOk9c7y"
      }
    },
    {
      "cell_type": "code",
      "source": [
        "def reverse_string(s):\n",
        "    reversed_s = \"\"\n",
        "    length = len(s) - 1\n",
        "    while length >= 0:\n",
        "        reversed_s += s[length]\n",
        "        length -= 1\n",
        "    return reversed_s\n",
        "\n",
        "input_string = \"Hello, World!\"\n",
        "reversed_string = reverse_string(input_string)\n",
        "print(f\"Original string: {input_string}\")\n",
        "print(f\"Reversed string: {reversed_string}\")"
      ],
      "metadata": {
        "colab": {
          "base_uri": "https://localhost:8080/"
        },
        "id": "vDHueZu08ICQ",
        "outputId": "aa1b5620-e87f-442e-fcbb-c68deaff358a"
      },
      "execution_count": null,
      "outputs": [
        {
          "output_type": "stream",
          "name": "stdout",
          "text": [
            "Original string: Hello, World!\n",
            "Reversed string: !dlroW ,olleH\n"
          ]
        }
      ]
    },
    {
      "cell_type": "markdown",
      "source": [
        "Q-15 Write a Python program to calculate the factorial of a number provided by the user using a while loop."
      ],
      "metadata": {
        "id": "JVs3OaQb-HS0"
      }
    },
    {
      "cell_type": "code",
      "source": [
        "number = int(input(\"Enter a number: \"))\n",
        "factorial = 1\n",
        "if number < 0:\n",
        "    print(\"Factorial does not exist for negative numbers\")\n",
        "elif number == 0:\n",
        "    print(\"The factorial of 0 is 1\")\n",
        "else:\n",
        "    while number > 0:\n",
        "        factorial = factorial * number\n",
        "        number = number - 1\n",
        "    print(\"The factorial is\", factorial)"
      ],
      "metadata": {
        "colab": {
          "base_uri": "https://localhost:8080/"
        },
        "id": "VYoNStQM98Mb",
        "outputId": "4cc53146-fc5c-4d89-e071-4e8bab0ed5ff"
      },
      "execution_count": null,
      "outputs": [
        {
          "output_type": "stream",
          "name": "stdout",
          "text": [
            "Enter a number: 5\n",
            "The factorial is 120\n"
          ]
        }
      ]
    },
    {
      "cell_type": "code",
      "source": [],
      "metadata": {
        "id": "riroAXZ5-dqk"
      },
      "execution_count": null,
      "outputs": []
    }
  ]
}